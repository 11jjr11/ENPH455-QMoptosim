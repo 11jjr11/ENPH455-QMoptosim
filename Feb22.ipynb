{
 "cells": [
  {
   "cell_type": "code",
   "execution_count": null,
   "metadata": {
    "collapsed": true
   },
   "outputs": [],
   "source": [
    "import matplotlib.pyplot as plt\n",
    "import numpy as np\n",
    "from qutip import *"
   ]
  },
  {
   "cell_type": "code",
   "execution_count": null,
   "metadata": {
    "collapsed": true
   },
   "outputs": [],
   "source": [
    "# System Parameters (in units of )\n",
    "#-----------------------------------\n",
    "Nc = 4                      # Number of cavity states\n",
    "Nm = 80                      # Number of mech states\n",
    "\n",
    "kappa = 0.3                 # Cavity damping rate\n",
    "\n",
    "E = 0.1                     # Driving Amplitude         \n",
    "g0 = 2.4*kappa              # Coupling strength\n",
    "Qm = 1e4                    # Mech quality factor\n",
    "gamma = 1/Qm                # Mech damping rate\n",
    "n_th = 1                    # Mech bath temperature\n",
    "\n",
    "hbar = 1                    # Planck constant - bar\n",
    "\n",
    "wc = 1.0;                   # Cavity Resonant Frequency\n",
    "w0 = wc/100;                # Mechanical Resonant Frequency (As a fraction of wc)"
   ]
  },
  {
   "cell_type": "code",
   "execution_count": null,
   "metadata": {
    "collapsed": false
   },
   "outputs": [],
   "source": [
    "# Operators\n",
    "#----------\n",
    "c = tensor(destroy(Nc), qeye(Nm)) # annihilation for cavity\n",
    "a = tensor(qeye(Nc), destroy(Nm)) # annihilation for oscillator\n",
    "num_a = a.dag()*a                 # number op. for oscillator\n",
    "num_c = c.dag()*c                 # number op. for cavity\n",
    "\n",
    "# Initial state density matrix\n",
    "#-------\n",
    "\n",
    "thermC = thermal_dm(Nc,Nc/2)   # thermal denisty matrix with (first_arg) states with avg. occupation given by (second arg)\n",
    "thermM = thermal_dm(Nm,Nm/2)\n",
    "\n",
    "therm0 = tensor(thermC,thermM)\n",
    "\n"
   ]
  },
  {
   "cell_type": "code",
   "execution_count": null,
   "metadata": {
    "collapsed": false
   },
   "outputs": [],
   "source": [
    "wps = [wc-2*w0, wc-w0, wc, wc+w0, wc+2*w0]; # Pump Frequency (As a fraction of w0)\n",
    "\n",
    "for i in range(len(wps)):  # Loop through all values for cavity frequency we specified in above list       \n",
    "    delta = wps[i]-wc;               # Detuning\n",
    "\n",
    "    # Hamiltonian\n",
    "    #------------\n",
    "    H = hbar*((delta)*(num_c) + num_a+ g0*(a.dag()+a)*num_c + 1j*E*(c.dag()-c))\n",
    "    #------------\n",
    "\n",
    "    times = np.linspace(0.0, 100.0, 101)\n",
    "    \n",
    "    expec_ops = [num_a,num_c] # Operators you want to find the expectation values for\n",
    "\n",
    "    result = mesolve(H, therm0, times, [], expec_ops)\n",
    "    \n",
    "    expecs = result.expect # extract expectation values for num_a,num_c over time\n",
    "    \n",
    "    if i == 0:\n",
    "        A = expecs;\n",
    "    else:\n",
    "        A = np.vstack((A,expecs));\n",
    "    "
   ]
  },
  {
   "cell_type": "code",
   "execution_count": null,
   "metadata": {
    "collapsed": false
   },
   "outputs": [],
   "source": [
    "plt.hold(True)\n",
    "\n",
    "colours = ['b','g','r','c','m','y','k']\n",
    "\n",
    "for i in range(len(wps)): # loop over number of cavity frequencies we did simulations for\n",
    "    \n",
    "    colourstr_m = colours[i] + '.'\n",
    "    colourstr_c = colours[i] + 'x'\n",
    "    \n",
    "    plt.plot(result.times, A[2*(i),:],colourstr_m);\n",
    "\n",
    "    plt.plot(result.times, A[2*(i)+1,:],colourstr_c);\n",
    "\n",
    "plt.xlabel('Time');\n",
    "plt.ylabel('Expectation values');\n",
    "\n",
    "plt.show()"
   ]
  },
  {
   "cell_type": "code",
   "execution_count": null,
   "metadata": {
    "collapsed": true
   },
   "outputs": [],
   "source": []
  }
 ],
 "metadata": {
  "kernelspec": {
   "display_name": "Python 3",
   "language": "python",
   "name": "python3"
  },
  "language_info": {
   "codemirror_mode": {
    "name": "ipython",
    "version": 3
   },
   "file_extension": ".py",
   "mimetype": "text/x-python",
   "name": "python",
   "nbconvert_exporter": "python",
   "pygments_lexer": "ipython3",
   "version": "3.4.3"
  }
 },
 "nbformat": 4,
 "nbformat_minor": 0
}
